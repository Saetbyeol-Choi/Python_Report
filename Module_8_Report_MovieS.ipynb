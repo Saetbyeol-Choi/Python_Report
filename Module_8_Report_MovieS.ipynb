{
  "cells": [
    {
      "cell_type": "markdown",
      "metadata": {
        "id": "view-in-github",
        "colab_type": "text"
      },
      "source": [
        "<a href=\"https://colab.research.google.com/github/Saetbyeol-Choi/Python_Report/blob/main/Module_8_Report_MovieS.ipynb\" target=\"_parent\"><img src=\"https://colab.research.google.com/assets/colab-badge.svg\" alt=\"Open In Colab\"/></a>"
      ]
    },
    {
      "cell_type": "markdown",
      "id": "d561afca",
      "metadata": {
        "id": "d561afca"
      },
      "source": [
        "# **Module 8 Report - Movies**\n",
        "# Characterization of existing films to aid in filmmaking\n",
        "### Name: Saetbyeol Choi"
      ]
    },
    {
      "cell_type": "markdown",
      "id": "1821b455",
      "metadata": {
        "id": "1821b455"
      },
      "source": [
        "## 1) Objectives of the Proposed Research\n",
        "In order to produce a movie, each part, such as planning, screenplay, directing, filming and distribution must go through an organic cooperative process. In film production, it is decided at the planning stage how to make a movie of a certain genre with whom and who will participate and which audience to target. In such a process, the writer writes the screenplay and the director is decided. The role of producers and distributors is also important for the box office of a produced movie.\n",
        "\n",
        "Based on the actual status of the movie production process, we intend to analyze the data listing information on movies of various genres released between 1980 and 2020. By delivering the results of analysis of information related to the characteristics of previously released films, we would like to provide an idea for Steven Spielberg to refer to when producing a new movies for the summer.\n",
        "\n",
        "Movies that cost a lot of money to produce are doomed to be subordinated to commerciality. In order to cover production costs and make a profit, a movie must succeed at the box office. As a visual indicator, IMDb user rating score can influence the success of a movie. According to this data, movie production countries are diverse, such as Korea, United States, United Kingdom and Canada. Among these, we aim to provide information on genre, director, writer, production company and etc of movie by targeting the country with good movie box office responses, identifying the characteristics of movies released in that country."
      ]
    },
    {
      "cell_type": "markdown",
      "id": "2d0e84a6",
      "metadata": {
        "id": "2d0e84a6"
      },
      "source": [
        "## **2) Data Exploration**"
      ]
    },
    {
      "cell_type": "code",
      "execution_count": null,
      "id": "14e9a704",
      "metadata": {
        "id": "14e9a704"
      },
      "outputs": [],
      "source": [
        "# Import pandas an open source data analysis library.\n",
        "import pandas as pd"
      ]
    },
    {
      "cell_type": "code",
      "execution_count": null,
      "id": "c4fcde45",
      "metadata": {
        "id": "c4fcde45"
      },
      "outputs": [],
      "source": [
        "# Load the data set\n",
        "movie= pd.read_csv(\"movies.csv\")"
      ]
    },
    {
      "cell_type": "markdown",
      "id": "f76a9a8e",
      "metadata": {
        "id": "f76a9a8e"
      },
      "source": [
        "#### 1. Showing the first 10 rows\n",
        "Check the structure of the data frame."
      ]
    },
    {
      "cell_type": "code",
      "execution_count": null,
      "id": "6e6d71c8",
      "metadata": {
        "id": "6e6d71c8",
        "outputId": "670ed26d-5960-42f3-9604-12f9d24cd277"
      },
      "outputs": [
        {
          "data": {
            "text/html": [
              "<div>\n",
              "<style scoped>\n",
              "    .dataframe tbody tr th:only-of-type {\n",
              "        vertical-align: middle;\n",
              "    }\n",
              "\n",
              "    .dataframe tbody tr th {\n",
              "        vertical-align: top;\n",
              "    }\n",
              "\n",
              "    .dataframe thead th {\n",
              "        text-align: right;\n",
              "    }\n",
              "</style>\n",
              "<table border=\"1\" class=\"dataframe\">\n",
              "  <thead>\n",
              "    <tr style=\"text-align: right;\">\n",
              "      <th></th>\n",
              "      <th>name</th>\n",
              "      <th>rating</th>\n",
              "      <th>genre</th>\n",
              "      <th>year</th>\n",
              "      <th>released</th>\n",
              "      <th>score</th>\n",
              "      <th>votes</th>\n",
              "      <th>director</th>\n",
              "      <th>writer</th>\n",
              "      <th>star</th>\n",
              "      <th>country</th>\n",
              "      <th>budget</th>\n",
              "      <th>gross</th>\n",
              "      <th>company</th>\n",
              "      <th>runtime</th>\n",
              "    </tr>\n",
              "  </thead>\n",
              "  <tbody>\n",
              "    <tr>\n",
              "      <th>0</th>\n",
              "      <td>The Shining</td>\n",
              "      <td>R</td>\n",
              "      <td>Drama</td>\n",
              "      <td>1980</td>\n",
              "      <td>June 13, 1980 (United States)</td>\n",
              "      <td>8.4</td>\n",
              "      <td>927000.0</td>\n",
              "      <td>Stanley Kubrick</td>\n",
              "      <td>Stephen King</td>\n",
              "      <td>Jack Nicholson</td>\n",
              "      <td>United Kingdom</td>\n",
              "      <td>19000000.0</td>\n",
              "      <td>46998772.0</td>\n",
              "      <td>Warner Bros.</td>\n",
              "      <td>146.0</td>\n",
              "    </tr>\n",
              "    <tr>\n",
              "      <th>1</th>\n",
              "      <td>The Blue Lagoon</td>\n",
              "      <td>R</td>\n",
              "      <td>Adventure</td>\n",
              "      <td>1980</td>\n",
              "      <td>July 2, 1980 (United States)</td>\n",
              "      <td>5.8</td>\n",
              "      <td>65000.0</td>\n",
              "      <td>Randal Kleiser</td>\n",
              "      <td>Henry De Vere Stacpoole</td>\n",
              "      <td>Brooke Shields</td>\n",
              "      <td>United States</td>\n",
              "      <td>4500000.0</td>\n",
              "      <td>58853106.0</td>\n",
              "      <td>Columbia Pictures</td>\n",
              "      <td>104.0</td>\n",
              "    </tr>\n",
              "    <tr>\n",
              "      <th>2</th>\n",
              "      <td>Star Wars: Episode V - The Empire Strikes Back</td>\n",
              "      <td>PG</td>\n",
              "      <td>Action</td>\n",
              "      <td>1980</td>\n",
              "      <td>June 20, 1980 (United States)</td>\n",
              "      <td>8.7</td>\n",
              "      <td>1200000.0</td>\n",
              "      <td>Irvin Kershner</td>\n",
              "      <td>Leigh Brackett</td>\n",
              "      <td>Mark Hamill</td>\n",
              "      <td>United States</td>\n",
              "      <td>18000000.0</td>\n",
              "      <td>538375067.0</td>\n",
              "      <td>Lucasfilm</td>\n",
              "      <td>124.0</td>\n",
              "    </tr>\n",
              "    <tr>\n",
              "      <th>3</th>\n",
              "      <td>Airplane!</td>\n",
              "      <td>PG</td>\n",
              "      <td>Comedy</td>\n",
              "      <td>1980</td>\n",
              "      <td>July 2, 1980 (United States)</td>\n",
              "      <td>7.7</td>\n",
              "      <td>221000.0</td>\n",
              "      <td>Jim Abrahams</td>\n",
              "      <td>Jim Abrahams</td>\n",
              "      <td>Robert Hays</td>\n",
              "      <td>United States</td>\n",
              "      <td>3500000.0</td>\n",
              "      <td>83453539.0</td>\n",
              "      <td>Paramount Pictures</td>\n",
              "      <td>88.0</td>\n",
              "    </tr>\n",
              "    <tr>\n",
              "      <th>4</th>\n",
              "      <td>Caddyshack</td>\n",
              "      <td>R</td>\n",
              "      <td>Comedy</td>\n",
              "      <td>1980</td>\n",
              "      <td>July 25, 1980 (United States)</td>\n",
              "      <td>7.3</td>\n",
              "      <td>108000.0</td>\n",
              "      <td>Harold Ramis</td>\n",
              "      <td>Brian Doyle-Murray</td>\n",
              "      <td>Chevy Chase</td>\n",
              "      <td>United States</td>\n",
              "      <td>6000000.0</td>\n",
              "      <td>39846344.0</td>\n",
              "      <td>Orion Pictures</td>\n",
              "      <td>98.0</td>\n",
              "    </tr>\n",
              "    <tr>\n",
              "      <th>5</th>\n",
              "      <td>Friday the 13th</td>\n",
              "      <td>R</td>\n",
              "      <td>Horror</td>\n",
              "      <td>1980</td>\n",
              "      <td>May 9, 1980 (United States)</td>\n",
              "      <td>6.4</td>\n",
              "      <td>123000.0</td>\n",
              "      <td>Sean S. Cunningham</td>\n",
              "      <td>Victor Miller</td>\n",
              "      <td>Betsy Palmer</td>\n",
              "      <td>United States</td>\n",
              "      <td>550000.0</td>\n",
              "      <td>39754601.0</td>\n",
              "      <td>Paramount Pictures</td>\n",
              "      <td>95.0</td>\n",
              "    </tr>\n",
              "    <tr>\n",
              "      <th>6</th>\n",
              "      <td>The Blues Brothers</td>\n",
              "      <td>R</td>\n",
              "      <td>Action</td>\n",
              "      <td>1980</td>\n",
              "      <td>June 20, 1980 (United States)</td>\n",
              "      <td>7.9</td>\n",
              "      <td>188000.0</td>\n",
              "      <td>John Landis</td>\n",
              "      <td>Dan Aykroyd</td>\n",
              "      <td>John Belushi</td>\n",
              "      <td>United States</td>\n",
              "      <td>27000000.0</td>\n",
              "      <td>115229890.0</td>\n",
              "      <td>Universal Pictures</td>\n",
              "      <td>133.0</td>\n",
              "    </tr>\n",
              "    <tr>\n",
              "      <th>7</th>\n",
              "      <td>Raging Bull</td>\n",
              "      <td>R</td>\n",
              "      <td>Biography</td>\n",
              "      <td>1980</td>\n",
              "      <td>December 19, 1980 (United States)</td>\n",
              "      <td>8.2</td>\n",
              "      <td>330000.0</td>\n",
              "      <td>Martin Scorsese</td>\n",
              "      <td>Jake LaMotta</td>\n",
              "      <td>Robert De Niro</td>\n",
              "      <td>United States</td>\n",
              "      <td>18000000.0</td>\n",
              "      <td>23402427.0</td>\n",
              "      <td>Chartoff-Winkler Productions</td>\n",
              "      <td>129.0</td>\n",
              "    </tr>\n",
              "    <tr>\n",
              "      <th>8</th>\n",
              "      <td>Superman II</td>\n",
              "      <td>PG</td>\n",
              "      <td>Action</td>\n",
              "      <td>1980</td>\n",
              "      <td>June 19, 1981 (United States)</td>\n",
              "      <td>6.8</td>\n",
              "      <td>101000.0</td>\n",
              "      <td>Richard Lester</td>\n",
              "      <td>Jerry Siegel</td>\n",
              "      <td>Gene Hackman</td>\n",
              "      <td>United States</td>\n",
              "      <td>54000000.0</td>\n",
              "      <td>108185706.0</td>\n",
              "      <td>Dovemead Films</td>\n",
              "      <td>127.0</td>\n",
              "    </tr>\n",
              "    <tr>\n",
              "      <th>9</th>\n",
              "      <td>The Long Riders</td>\n",
              "      <td>R</td>\n",
              "      <td>Biography</td>\n",
              "      <td>1980</td>\n",
              "      <td>May 16, 1980 (United States)</td>\n",
              "      <td>7.0</td>\n",
              "      <td>10000.0</td>\n",
              "      <td>Walter Hill</td>\n",
              "      <td>Bill Bryden</td>\n",
              "      <td>David Carradine</td>\n",
              "      <td>United States</td>\n",
              "      <td>10000000.0</td>\n",
              "      <td>15795189.0</td>\n",
              "      <td>United Artists</td>\n",
              "      <td>100.0</td>\n",
              "    </tr>\n",
              "  </tbody>\n",
              "</table>\n",
              "</div>"
            ],
            "text/plain": [
              "                                             name rating      genre  year  \\\n",
              "0                                     The Shining      R      Drama  1980   \n",
              "1                                 The Blue Lagoon      R  Adventure  1980   \n",
              "2  Star Wars: Episode V - The Empire Strikes Back     PG     Action  1980   \n",
              "3                                       Airplane!     PG     Comedy  1980   \n",
              "4                                      Caddyshack      R     Comedy  1980   \n",
              "5                                 Friday the 13th      R     Horror  1980   \n",
              "6                              The Blues Brothers      R     Action  1980   \n",
              "7                                     Raging Bull      R  Biography  1980   \n",
              "8                                     Superman II     PG     Action  1980   \n",
              "9                                 The Long Riders      R  Biography  1980   \n",
              "\n",
              "                            released  score      votes            director  \\\n",
              "0      June 13, 1980 (United States)    8.4   927000.0     Stanley Kubrick   \n",
              "1       July 2, 1980 (United States)    5.8    65000.0      Randal Kleiser   \n",
              "2      June 20, 1980 (United States)    8.7  1200000.0      Irvin Kershner   \n",
              "3       July 2, 1980 (United States)    7.7   221000.0        Jim Abrahams   \n",
              "4      July 25, 1980 (United States)    7.3   108000.0        Harold Ramis   \n",
              "5        May 9, 1980 (United States)    6.4   123000.0  Sean S. Cunningham   \n",
              "6      June 20, 1980 (United States)    7.9   188000.0         John Landis   \n",
              "7  December 19, 1980 (United States)    8.2   330000.0     Martin Scorsese   \n",
              "8      June 19, 1981 (United States)    6.8   101000.0      Richard Lester   \n",
              "9       May 16, 1980 (United States)    7.0    10000.0         Walter Hill   \n",
              "\n",
              "                    writer             star         country      budget  \\\n",
              "0             Stephen King   Jack Nicholson  United Kingdom  19000000.0   \n",
              "1  Henry De Vere Stacpoole   Brooke Shields   United States   4500000.0   \n",
              "2           Leigh Brackett      Mark Hamill   United States  18000000.0   \n",
              "3             Jim Abrahams      Robert Hays   United States   3500000.0   \n",
              "4       Brian Doyle-Murray      Chevy Chase   United States   6000000.0   \n",
              "5            Victor Miller     Betsy Palmer   United States    550000.0   \n",
              "6              Dan Aykroyd     John Belushi   United States  27000000.0   \n",
              "7             Jake LaMotta   Robert De Niro   United States  18000000.0   \n",
              "8             Jerry Siegel     Gene Hackman   United States  54000000.0   \n",
              "9              Bill Bryden  David Carradine   United States  10000000.0   \n",
              "\n",
              "         gross                       company  runtime  \n",
              "0   46998772.0                  Warner Bros.    146.0  \n",
              "1   58853106.0             Columbia Pictures    104.0  \n",
              "2  538375067.0                     Lucasfilm    124.0  \n",
              "3   83453539.0            Paramount Pictures     88.0  \n",
              "4   39846344.0                Orion Pictures     98.0  \n",
              "5   39754601.0            Paramount Pictures     95.0  \n",
              "6  115229890.0            Universal Pictures    133.0  \n",
              "7   23402427.0  Chartoff-Winkler Productions    129.0  \n",
              "8  108185706.0                Dovemead Films    127.0  \n",
              "9   15795189.0                United Artists    100.0  "
            ]
          },
          "execution_count": 613,
          "metadata": {},
          "output_type": "execute_result"
        }
      ],
      "source": [
        "# Use the \"iloc\" function, which separates dataframes by index number, to extract 10 rows.\n",
        "movie.iloc[:10,]"
      ]
    },
    {
      "cell_type": "markdown",
      "id": "685216f9",
      "metadata": {
        "id": "685216f9"
      },
      "source": [
        "#### 2. Showing the number of rows and columns\n",
        "Notice that it consists of 7668 rows and 15 columns."
      ]
    },
    {
      "cell_type": "code",
      "execution_count": null,
      "id": "5891cb18",
      "metadata": {
        "id": "5891cb18",
        "outputId": "4d60cb94-04e1-421a-8b6f-5cb1fbdad726"
      },
      "outputs": [
        {
          "data": {
            "text/plain": [
              "(7668, 15)"
            ]
          },
          "execution_count": 614,
          "metadata": {},
          "output_type": "execute_result"
        }
      ],
      "source": [
        "# Get the number of rows and columns of the dataframe by using \"shape\" function.\n",
        "movie.shape"
      ]
    },
    {
      "cell_type": "markdown",
      "id": "322626a3",
      "metadata": {
        "id": "322626a3"
      },
      "source": [
        "#### 3. Showing the average of the numerical values\n",
        "Check the average score of movie user's rating score."
      ]
    },
    {
      "cell_type": "code",
      "execution_count": null,
      "id": "15794fc9",
      "metadata": {
        "id": "15794fc9",
        "outputId": "8fb00dc0-7d83-4d04-d8d8-e3e7c4c7ce6d"
      },
      "outputs": [
        {
          "data": {
            "text/plain": [
              "6.390410958904098"
            ]
          },
          "execution_count": 615,
          "metadata": {},
          "output_type": "execute_result"
        }
      ],
      "source": [
        "# Find the average of specific column.\n",
        "movie[\"score\"].mean()"
      ]
    },
    {
      "cell_type": "markdown",
      "id": "96a0d692",
      "metadata": {
        "id": "96a0d692"
      },
      "source": [
        "#### 4. Showing the number of missing values\n",
        "Checking the missing values and removing them later improves the accuracy of the results."
      ]
    },
    {
      "cell_type": "code",
      "execution_count": null,
      "id": "8b43210b",
      "metadata": {
        "id": "8b43210b",
        "outputId": "dfef985e-0459-4d7e-a378-59e597494b35"
      },
      "outputs": [
        {
          "data": {
            "text/plain": [
              "name           0\n",
              "rating        77\n",
              "genre          0\n",
              "year           0\n",
              "released       2\n",
              "score          3\n",
              "votes          3\n",
              "director       0\n",
              "writer         3\n",
              "star           1\n",
              "country        3\n",
              "budget      2171\n",
              "gross        189\n",
              "company       17\n",
              "runtime        4\n",
              "dtype: int64"
            ]
          },
          "execution_count": 616,
          "metadata": {},
          "output_type": "execute_result"
        }
      ],
      "source": [
        "# Use \"isnull().sum()\" to check the number of missing values in the data set.\n",
        "movie.isnull().sum()"
      ]
    },
    {
      "cell_type": "markdown",
      "id": "dc148f43",
      "metadata": {
        "id": "dc148f43"
      },
      "source": [
        "## **3) Subsets of Data**"
      ]
    },
    {
      "cell_type": "code",
      "execution_count": null,
      "id": "70552577",
      "metadata": {
        "id": "70552577",
        "outputId": "ced95163-9bb8-49b1-c62e-7b51162a5321"
      },
      "outputs": [
        {
          "data": {
            "text/html": [
              "<div>\n",
              "<style scoped>\n",
              "    .dataframe tbody tr th:only-of-type {\n",
              "        vertical-align: middle;\n",
              "    }\n",
              "\n",
              "    .dataframe tbody tr th {\n",
              "        vertical-align: top;\n",
              "    }\n",
              "\n",
              "    .dataframe thead th {\n",
              "        text-align: right;\n",
              "    }\n",
              "</style>\n",
              "<table border=\"1\" class=\"dataframe\">\n",
              "  <thead>\n",
              "    <tr style=\"text-align: right;\">\n",
              "      <th></th>\n",
              "      <th>name</th>\n",
              "      <th>rating</th>\n",
              "      <th>genre</th>\n",
              "      <th>year</th>\n",
              "      <th>released</th>\n",
              "      <th>score</th>\n",
              "      <th>votes</th>\n",
              "      <th>director</th>\n",
              "      <th>writer</th>\n",
              "      <th>star</th>\n",
              "      <th>country</th>\n",
              "      <th>budget</th>\n",
              "      <th>gross</th>\n",
              "      <th>company</th>\n",
              "      <th>runtime</th>\n",
              "    </tr>\n",
              "  </thead>\n",
              "  <tbody>\n",
              "    <tr>\n",
              "      <th>0</th>\n",
              "      <td>The Shining</td>\n",
              "      <td>R</td>\n",
              "      <td>Drama</td>\n",
              "      <td>1980</td>\n",
              "      <td>June 13, 1980 (United States)</td>\n",
              "      <td>8.4</td>\n",
              "      <td>927000.0</td>\n",
              "      <td>Stanley Kubrick</td>\n",
              "      <td>Stephen King</td>\n",
              "      <td>Jack Nicholson</td>\n",
              "      <td>United Kingdom</td>\n",
              "      <td>19000000.0</td>\n",
              "      <td>46998772.0</td>\n",
              "      <td>Warner Bros.</td>\n",
              "      <td>146.0</td>\n",
              "    </tr>\n",
              "    <tr>\n",
              "      <th>1</th>\n",
              "      <td>The Blue Lagoon</td>\n",
              "      <td>R</td>\n",
              "      <td>Adventure</td>\n",
              "      <td>1980</td>\n",
              "      <td>July 2, 1980 (United States)</td>\n",
              "      <td>5.8</td>\n",
              "      <td>65000.0</td>\n",
              "      <td>Randal Kleiser</td>\n",
              "      <td>Henry De Vere Stacpoole</td>\n",
              "      <td>Brooke Shields</td>\n",
              "      <td>United States</td>\n",
              "      <td>4500000.0</td>\n",
              "      <td>58853106.0</td>\n",
              "      <td>Columbia Pictures</td>\n",
              "      <td>104.0</td>\n",
              "    </tr>\n",
              "    <tr>\n",
              "      <th>2</th>\n",
              "      <td>Star Wars: Episode V - The Empire Strikes Back</td>\n",
              "      <td>PG</td>\n",
              "      <td>Action</td>\n",
              "      <td>1980</td>\n",
              "      <td>June 20, 1980 (United States)</td>\n",
              "      <td>8.7</td>\n",
              "      <td>1200000.0</td>\n",
              "      <td>Irvin Kershner</td>\n",
              "      <td>Leigh Brackett</td>\n",
              "      <td>Mark Hamill</td>\n",
              "      <td>United States</td>\n",
              "      <td>18000000.0</td>\n",
              "      <td>538375067.0</td>\n",
              "      <td>Lucasfilm</td>\n",
              "      <td>124.0</td>\n",
              "    </tr>\n",
              "    <tr>\n",
              "      <th>3</th>\n",
              "      <td>Airplane!</td>\n",
              "      <td>PG</td>\n",
              "      <td>Comedy</td>\n",
              "      <td>1980</td>\n",
              "      <td>July 2, 1980 (United States)</td>\n",
              "      <td>7.7</td>\n",
              "      <td>221000.0</td>\n",
              "      <td>Jim Abrahams</td>\n",
              "      <td>Jim Abrahams</td>\n",
              "      <td>Robert Hays</td>\n",
              "      <td>United States</td>\n",
              "      <td>3500000.0</td>\n",
              "      <td>83453539.0</td>\n",
              "      <td>Paramount Pictures</td>\n",
              "      <td>88.0</td>\n",
              "    </tr>\n",
              "    <tr>\n",
              "      <th>4</th>\n",
              "      <td>Caddyshack</td>\n",
              "      <td>R</td>\n",
              "      <td>Comedy</td>\n",
              "      <td>1980</td>\n",
              "      <td>July 25, 1980 (United States)</td>\n",
              "      <td>7.3</td>\n",
              "      <td>108000.0</td>\n",
              "      <td>Harold Ramis</td>\n",
              "      <td>Brian Doyle-Murray</td>\n",
              "      <td>Chevy Chase</td>\n",
              "      <td>United States</td>\n",
              "      <td>6000000.0</td>\n",
              "      <td>39846344.0</td>\n",
              "      <td>Orion Pictures</td>\n",
              "      <td>98.0</td>\n",
              "    </tr>\n",
              "  </tbody>\n",
              "</table>\n",
              "</div>"
            ],
            "text/plain": [
              "                                             name rating      genre  year  \\\n",
              "0                                     The Shining      R      Drama  1980   \n",
              "1                                 The Blue Lagoon      R  Adventure  1980   \n",
              "2  Star Wars: Episode V - The Empire Strikes Back     PG     Action  1980   \n",
              "3                                       Airplane!     PG     Comedy  1980   \n",
              "4                                      Caddyshack      R     Comedy  1980   \n",
              "\n",
              "                        released  score      votes         director  \\\n",
              "0  June 13, 1980 (United States)    8.4   927000.0  Stanley Kubrick   \n",
              "1   July 2, 1980 (United States)    5.8    65000.0   Randal Kleiser   \n",
              "2  June 20, 1980 (United States)    8.7  1200000.0   Irvin Kershner   \n",
              "3   July 2, 1980 (United States)    7.7   221000.0     Jim Abrahams   \n",
              "4  July 25, 1980 (United States)    7.3   108000.0     Harold Ramis   \n",
              "\n",
              "                    writer            star         country      budget  \\\n",
              "0             Stephen King  Jack Nicholson  United Kingdom  19000000.0   \n",
              "1  Henry De Vere Stacpoole  Brooke Shields   United States   4500000.0   \n",
              "2           Leigh Brackett     Mark Hamill   United States  18000000.0   \n",
              "3             Jim Abrahams     Robert Hays   United States   3500000.0   \n",
              "4       Brian Doyle-Murray     Chevy Chase   United States   6000000.0   \n",
              "\n",
              "         gross             company  runtime  \n",
              "0   46998772.0        Warner Bros.    146.0  \n",
              "1   58853106.0   Columbia Pictures    104.0  \n",
              "2  538375067.0           Lucasfilm    124.0  \n",
              "3   83453539.0  Paramount Pictures     88.0  \n",
              "4   39846344.0      Orion Pictures     98.0  "
            ]
          },
          "execution_count": 617,
          "metadata": {},
          "output_type": "execute_result"
        }
      ],
      "source": [
        "# The \"dropna\" function finds rows with NaN and deletes the entire row.\n",
        "movie_final = movie.dropna()\n",
        "movie_final.head()"
      ]
    },
    {
      "cell_type": "markdown",
      "id": "4f2d0d17",
      "metadata": {
        "id": "4f2d0d17"
      },
      "source": [
        "#### 1. Movies with a score of 8.5 or higher\n",
        "After extracting data based on IMDb user rating of 8.5 or higher, it is sorted in descending order. The movie with the highest rating score is \"The Shawshank Redemption\" in the drama genre released in 1994 witht a rating score of 9.3. The movie was produced in the United States. The movie with the next highest rating with a score of 9.0 was also produced in the United States. The movie is \"The Dark Knight\", an action genre film. The extracted data shows that 4 out of the top 5 movies are from the US.<br>\n",
        "Based on the data set, the countries with a rating of 8.5 or higher were checked. It is confirmed that five films produced in the United States have the most records on the rating score of 8.5 or higher."
      ]
    },
    {
      "cell_type": "code",
      "execution_count": null,
      "id": "4528a96c",
      "metadata": {
        "id": "4528a96c",
        "outputId": "39465459-57e5-4fab-c279-f409ee27d3a4"
      },
      "outputs": [
        {
          "data": {
            "text/html": [
              "<div>\n",
              "<style scoped>\n",
              "    .dataframe tbody tr th:only-of-type {\n",
              "        vertical-align: middle;\n",
              "    }\n",
              "\n",
              "    .dataframe tbody tr th {\n",
              "        vertical-align: top;\n",
              "    }\n",
              "\n",
              "    .dataframe thead th {\n",
              "        text-align: right;\n",
              "    }\n",
              "</style>\n",
              "<table border=\"1\" class=\"dataframe\">\n",
              "  <thead>\n",
              "    <tr style=\"text-align: right;\">\n",
              "      <th></th>\n",
              "      <th>name</th>\n",
              "      <th>rating</th>\n",
              "      <th>genre</th>\n",
              "      <th>year</th>\n",
              "      <th>released</th>\n",
              "      <th>score</th>\n",
              "      <th>votes</th>\n",
              "      <th>director</th>\n",
              "      <th>writer</th>\n",
              "      <th>star</th>\n",
              "      <th>country</th>\n",
              "      <th>budget</th>\n",
              "      <th>gross</th>\n",
              "      <th>company</th>\n",
              "      <th>runtime</th>\n",
              "    </tr>\n",
              "  </thead>\n",
              "  <tbody>\n",
              "    <tr>\n",
              "      <th>2443</th>\n",
              "      <td>The Shawshank Redemption</td>\n",
              "      <td>R</td>\n",
              "      <td>Drama</td>\n",
              "      <td>1994</td>\n",
              "      <td>October 14, 1994 (United States)</td>\n",
              "      <td>9.3</td>\n",
              "      <td>2400000.0</td>\n",
              "      <td>Frank Darabont</td>\n",
              "      <td>Stephen King</td>\n",
              "      <td>Tim Robbins</td>\n",
              "      <td>United States</td>\n",
              "      <td>25000000.0</td>\n",
              "      <td>2.881729e+07</td>\n",
              "      <td>Castle Rock Entertainment</td>\n",
              "      <td>142.0</td>\n",
              "    </tr>\n",
              "    <tr>\n",
              "      <th>5243</th>\n",
              "      <td>The Dark Knight</td>\n",
              "      <td>PG-13</td>\n",
              "      <td>Action</td>\n",
              "      <td>2008</td>\n",
              "      <td>July 18, 2008 (United States)</td>\n",
              "      <td>9.0</td>\n",
              "      <td>2400000.0</td>\n",
              "      <td>Christopher Nolan</td>\n",
              "      <td>Jonathan Nolan</td>\n",
              "      <td>Christian Bale</td>\n",
              "      <td>United States</td>\n",
              "      <td>185000000.0</td>\n",
              "      <td>1.005974e+09</td>\n",
              "      <td>Warner Bros.</td>\n",
              "      <td>152.0</td>\n",
              "    </tr>\n",
              "    <tr>\n",
              "      <th>4245</th>\n",
              "      <td>The Lord of the Rings: The Return of the King</td>\n",
              "      <td>PG-13</td>\n",
              "      <td>Action</td>\n",
              "      <td>2003</td>\n",
              "      <td>December 17, 2003 (United States)</td>\n",
              "      <td>8.9</td>\n",
              "      <td>1700000.0</td>\n",
              "      <td>Peter Jackson</td>\n",
              "      <td>J.R.R. Tolkien</td>\n",
              "      <td>Elijah Wood</td>\n",
              "      <td>New Zealand</td>\n",
              "      <td>94000000.0</td>\n",
              "      <td>1.146031e+09</td>\n",
              "      <td>New Line Cinema</td>\n",
              "      <td>201.0</td>\n",
              "    </tr>\n",
              "    <tr>\n",
              "      <th>2247</th>\n",
              "      <td>Schindler's List</td>\n",
              "      <td>R</td>\n",
              "      <td>Biography</td>\n",
              "      <td>1993</td>\n",
              "      <td>February 4, 1994 (United States)</td>\n",
              "      <td>8.9</td>\n",
              "      <td>1200000.0</td>\n",
              "      <td>Steven Spielberg</td>\n",
              "      <td>Thomas Keneally</td>\n",
              "      <td>Liam Neeson</td>\n",
              "      <td>United States</td>\n",
              "      <td>22000000.0</td>\n",
              "      <td>3.221612e+08</td>\n",
              "      <td>Universal Pictures</td>\n",
              "      <td>195.0</td>\n",
              "    </tr>\n",
              "    <tr>\n",
              "      <th>2444</th>\n",
              "      <td>Pulp Fiction</td>\n",
              "      <td>R</td>\n",
              "      <td>Crime</td>\n",
              "      <td>1994</td>\n",
              "      <td>October 14, 1994 (United States)</td>\n",
              "      <td>8.9</td>\n",
              "      <td>1900000.0</td>\n",
              "      <td>Quentin Tarantino</td>\n",
              "      <td>Quentin Tarantino</td>\n",
              "      <td>John Travolta</td>\n",
              "      <td>United States</td>\n",
              "      <td>8000000.0</td>\n",
              "      <td>2.139288e+08</td>\n",
              "      <td>Miramax</td>\n",
              "      <td>154.0</td>\n",
              "    </tr>\n",
              "  </tbody>\n",
              "</table>\n",
              "</div>"
            ],
            "text/plain": [
              "                                               name rating      genre  year  \\\n",
              "2443                       The Shawshank Redemption      R      Drama  1994   \n",
              "5243                                The Dark Knight  PG-13     Action  2008   \n",
              "4245  The Lord of the Rings: The Return of the King  PG-13     Action  2003   \n",
              "2247                               Schindler's List      R  Biography  1993   \n",
              "2444                                   Pulp Fiction      R      Crime  1994   \n",
              "\n",
              "                               released  score      votes           director  \\\n",
              "2443   October 14, 1994 (United States)    9.3  2400000.0     Frank Darabont   \n",
              "5243      July 18, 2008 (United States)    9.0  2400000.0  Christopher Nolan   \n",
              "4245  December 17, 2003 (United States)    8.9  1700000.0      Peter Jackson   \n",
              "2247   February 4, 1994 (United States)    8.9  1200000.0   Steven Spielberg   \n",
              "2444   October 14, 1994 (United States)    8.9  1900000.0  Quentin Tarantino   \n",
              "\n",
              "                 writer            star        country       budget  \\\n",
              "2443       Stephen King     Tim Robbins  United States   25000000.0   \n",
              "5243     Jonathan Nolan  Christian Bale  United States  185000000.0   \n",
              "4245     J.R.R. Tolkien     Elijah Wood    New Zealand   94000000.0   \n",
              "2247    Thomas Keneally     Liam Neeson  United States   22000000.0   \n",
              "2444  Quentin Tarantino   John Travolta  United States    8000000.0   \n",
              "\n",
              "             gross                    company  runtime  \n",
              "2443  2.881729e+07  Castle Rock Entertainment    142.0  \n",
              "5243  1.005974e+09               Warner Bros.    152.0  \n",
              "4245  1.146031e+09            New Line Cinema    201.0  \n",
              "2247  3.221612e+08         Universal Pictures    195.0  \n",
              "2444  2.139288e+08                    Miramax    154.0  "
            ]
          },
          "execution_count": 618,
          "metadata": {},
          "output_type": "execute_result"
        }
      ],
      "source": [
        "score = movie_final[movie_final[\"score\"] >= 8.5]\n",
        "score.sort_values(\"score\", ascending = False).head()"
      ]
    },
    {
      "cell_type": "code",
      "execution_count": null,
      "id": "36ef449d",
      "metadata": {
        "id": "36ef449d",
        "outputId": "df32e7eb-9356-4565-c945-183cdeea58d0"
      },
      "outputs": [
        {
          "data": {
            "text/plain": [
              "country\n",
              "Canada           2\n",
              "China            1\n",
              "United States    5\n",
              "dtype: int64"
            ]
          },
          "execution_count": 619,
          "metadata": {},
          "output_type": "execute_result"
        }
      ],
      "source": [
        "y.groupby(\"country\").size()"
      ]
    },
    {
      "cell_type": "markdown",
      "id": "b0aa8cd8",
      "metadata": {
        "id": "b0aa8cd8"
      },
      "source": [
        "#### 2. Movies produced in the United States since 2000\n",
        "Based on the above results, it was focused on analyzing the characteristics of the movies poduced from the United Sates. Among them, the characteristics of movies released after 2000 were investigated. The extracted US movies since 2000 are listed in order of user rating score to check which genre of movies was the most popular. The most popular action movie in the United States was \"The Dark Knight\", which was released in 2008.<br>\n",
        "From this data set, it was idntified which movie genre produced the most. Action movies accounted for the largest share with 686 movies, followed by comedy movies with 675."
      ]
    },
    {
      "cell_type": "code",
      "execution_count": null,
      "id": "2d62e13e",
      "metadata": {
        "id": "2d62e13e",
        "outputId": "3dcfb6d5-6159-4458-adf7-ff2e5a27feaf"
      },
      "outputs": [
        {
          "data": {
            "text/html": [
              "<div>\n",
              "<style scoped>\n",
              "    .dataframe tbody tr th:only-of-type {\n",
              "        vertical-align: middle;\n",
              "    }\n",
              "\n",
              "    .dataframe tbody tr th {\n",
              "        vertical-align: top;\n",
              "    }\n",
              "\n",
              "    .dataframe thead th {\n",
              "        text-align: right;\n",
              "    }\n",
              "</style>\n",
              "<table border=\"1\" class=\"dataframe\">\n",
              "  <thead>\n",
              "    <tr style=\"text-align: right;\">\n",
              "      <th></th>\n",
              "      <th>name</th>\n",
              "      <th>rating</th>\n",
              "      <th>genre</th>\n",
              "      <th>year</th>\n",
              "      <th>released</th>\n",
              "      <th>score</th>\n",
              "      <th>votes</th>\n",
              "      <th>director</th>\n",
              "      <th>writer</th>\n",
              "      <th>star</th>\n",
              "      <th>country</th>\n",
              "      <th>budget</th>\n",
              "      <th>gross</th>\n",
              "      <th>company</th>\n",
              "      <th>runtime</th>\n",
              "    </tr>\n",
              "  </thead>\n",
              "  <tbody>\n",
              "    <tr>\n",
              "      <th>5243</th>\n",
              "      <td>The Dark Knight</td>\n",
              "      <td>PG-13</td>\n",
              "      <td>Action</td>\n",
              "      <td>2008</td>\n",
              "      <td>July 18, 2008 (United States)</td>\n",
              "      <td>9.0</td>\n",
              "      <td>2400000.0</td>\n",
              "      <td>Christopher Nolan</td>\n",
              "      <td>Jonathan Nolan</td>\n",
              "      <td>Christian Bale</td>\n",
              "      <td>United States</td>\n",
              "      <td>185000000.0</td>\n",
              "      <td>1.005974e+09</td>\n",
              "      <td>Warner Bros.</td>\n",
              "      <td>152.0</td>\n",
              "    </tr>\n",
              "    <tr>\n",
              "      <th>5643</th>\n",
              "      <td>Inception</td>\n",
              "      <td>PG-13</td>\n",
              "      <td>Action</td>\n",
              "      <td>2010</td>\n",
              "      <td>July 16, 2010 (United States)</td>\n",
              "      <td>8.8</td>\n",
              "      <td>2100000.0</td>\n",
              "      <td>Christopher Nolan</td>\n",
              "      <td>Christopher Nolan</td>\n",
              "      <td>Leonardo DiCaprio</td>\n",
              "      <td>United States</td>\n",
              "      <td>160000000.0</td>\n",
              "      <td>8.368370e+08</td>\n",
              "      <td>Warner Bros.</td>\n",
              "      <td>148.0</td>\n",
              "    </tr>\n",
              "    <tr>\n",
              "      <th>6444</th>\n",
              "      <td>Interstellar</td>\n",
              "      <td>PG-13</td>\n",
              "      <td>Adventure</td>\n",
              "      <td>2014</td>\n",
              "      <td>November 7, 2014 (United States)</td>\n",
              "      <td>8.6</td>\n",
              "      <td>1600000.0</td>\n",
              "      <td>Christopher Nolan</td>\n",
              "      <td>Jonathan Nolan</td>\n",
              "      <td>Matthew McConaughey</td>\n",
              "      <td>United States</td>\n",
              "      <td>165000000.0</td>\n",
              "      <td>7.017292e+08</td>\n",
              "      <td>Paramount Pictures</td>\n",
              "      <td>169.0</td>\n",
              "    </tr>\n",
              "    <tr>\n",
              "      <th>3645</th>\n",
              "      <td>Gladiator</td>\n",
              "      <td>R</td>\n",
              "      <td>Action</td>\n",
              "      <td>2000</td>\n",
              "      <td>May 5, 2000 (United States)</td>\n",
              "      <td>8.5</td>\n",
              "      <td>1400000.0</td>\n",
              "      <td>Ridley Scott</td>\n",
              "      <td>David Franzoni</td>\n",
              "      <td>Russell Crowe</td>\n",
              "      <td>United States</td>\n",
              "      <td>103000000.0</td>\n",
              "      <td>4.653808e+08</td>\n",
              "      <td>Dreamworks Pictures</td>\n",
              "      <td>155.0</td>\n",
              "    </tr>\n",
              "    <tr>\n",
              "      <th>4843</th>\n",
              "      <td>The Departed</td>\n",
              "      <td>R</td>\n",
              "      <td>Crime</td>\n",
              "      <td>2006</td>\n",
              "      <td>October 6, 2006 (United States)</td>\n",
              "      <td>8.5</td>\n",
              "      <td>1200000.0</td>\n",
              "      <td>Martin Scorsese</td>\n",
              "      <td>William Monahan</td>\n",
              "      <td>Leonardo DiCaprio</td>\n",
              "      <td>United States</td>\n",
              "      <td>90000000.0</td>\n",
              "      <td>2.914654e+08</td>\n",
              "      <td>Warner Bros.</td>\n",
              "      <td>151.0</td>\n",
              "    </tr>\n",
              "  </tbody>\n",
              "</table>\n",
              "</div>"
            ],
            "text/plain": [
              "                 name rating      genre  year  \\\n",
              "5243  The Dark Knight  PG-13     Action  2008   \n",
              "5643        Inception  PG-13     Action  2010   \n",
              "6444     Interstellar  PG-13  Adventure  2014   \n",
              "3645        Gladiator      R     Action  2000   \n",
              "4843     The Departed      R      Crime  2006   \n",
              "\n",
              "                              released  score      votes           director  \\\n",
              "5243     July 18, 2008 (United States)    9.0  2400000.0  Christopher Nolan   \n",
              "5643     July 16, 2010 (United States)    8.8  2100000.0  Christopher Nolan   \n",
              "6444  November 7, 2014 (United States)    8.6  1600000.0  Christopher Nolan   \n",
              "3645       May 5, 2000 (United States)    8.5  1400000.0       Ridley Scott   \n",
              "4843   October 6, 2006 (United States)    8.5  1200000.0    Martin Scorsese   \n",
              "\n",
              "                 writer                 star        country       budget  \\\n",
              "5243     Jonathan Nolan       Christian Bale  United States  185000000.0   \n",
              "5643  Christopher Nolan    Leonardo DiCaprio  United States  160000000.0   \n",
              "6444     Jonathan Nolan  Matthew McConaughey  United States  165000000.0   \n",
              "3645     David Franzoni        Russell Crowe  United States  103000000.0   \n",
              "4843    William Monahan    Leonardo DiCaprio  United States   90000000.0   \n",
              "\n",
              "             gross              company  runtime  \n",
              "5243  1.005974e+09         Warner Bros.    152.0  \n",
              "5643  8.368370e+08         Warner Bros.    148.0  \n",
              "6444  7.017292e+08   Paramount Pictures    169.0  \n",
              "3645  4.653808e+08  Dreamworks Pictures    155.0  \n",
              "4843  2.914654e+08         Warner Bros.    151.0  "
            ]
          },
          "execution_count": 620,
          "metadata": {},
          "output_type": "execute_result"
        }
      ],
      "source": [
        "year = movie_final[(movie_final[\"country\"] == \"United States\") & (movie_final[\"year\"] >= 2000)]\n",
        "year.sort_values(\"score\", ascending = False).head()"
      ]
    },
    {
      "cell_type": "code",
      "execution_count": null,
      "id": "d043ce14",
      "metadata": {
        "id": "d043ce14",
        "outputId": "e5c102fa-b13f-4d67-e540-c5082cdd9779"
      },
      "outputs": [
        {
          "data": {
            "text/plain": [
              "genre\n",
              "Action       686\n",
              "Comedy       675\n",
              "Drama        357\n",
              "Animation    172\n",
              "Crime        148\n",
              "dtype: int64"
            ]
          },
          "execution_count": 621,
          "metadata": {},
          "output_type": "execute_result"
        }
      ],
      "source": [
        "year.groupby(\"genre\").size().nlargest()"
      ]
    },
    {
      "cell_type": "markdown",
      "id": "7822f85a",
      "metadata": {
        "id": "7822f85a"
      },
      "source": [
        "#### 3. American action movies\n",
        "Previously, it was confirmed that the movie genre with the highest number of releases in the United States with the highest rating score was action. Based on this, action movies produced int the United States from the data set were extracted, sorted in order of rating score and additional characteristics on those movies were analyzed. The top movie was directed by \"Christopher Nolan\" and produced by the production company named \"Warner Bros.\". It can be confirmed that the movie has the second highest number on the score was also made with the same director and production company.<br>\n",
        "In the case of action movies, it was confirmed that there were many films by Columbia Pictures, but in the case of high-ranking films, many movies were produced by Warner Bros."
      ]
    },
    {
      "cell_type": "code",
      "execution_count": null,
      "id": "d2199fe0",
      "metadata": {
        "id": "d2199fe0",
        "outputId": "0fb8b928-734b-4b44-93fd-60031561a645"
      },
      "outputs": [
        {
          "data": {
            "text/html": [
              "<div>\n",
              "<style scoped>\n",
              "    .dataframe tbody tr th:only-of-type {\n",
              "        vertical-align: middle;\n",
              "    }\n",
              "\n",
              "    .dataframe tbody tr th {\n",
              "        vertical-align: top;\n",
              "    }\n",
              "\n",
              "    .dataframe thead th {\n",
              "        text-align: right;\n",
              "    }\n",
              "</style>\n",
              "<table border=\"1\" class=\"dataframe\">\n",
              "  <thead>\n",
              "    <tr style=\"text-align: right;\">\n",
              "      <th></th>\n",
              "      <th>name</th>\n",
              "      <th>rating</th>\n",
              "      <th>genre</th>\n",
              "      <th>year</th>\n",
              "      <th>released</th>\n",
              "      <th>score</th>\n",
              "      <th>votes</th>\n",
              "      <th>director</th>\n",
              "      <th>writer</th>\n",
              "      <th>star</th>\n",
              "      <th>country</th>\n",
              "      <th>budget</th>\n",
              "      <th>gross</th>\n",
              "      <th>company</th>\n",
              "      <th>runtime</th>\n",
              "    </tr>\n",
              "  </thead>\n",
              "  <tbody>\n",
              "    <tr>\n",
              "      <th>5243</th>\n",
              "      <td>The Dark Knight</td>\n",
              "      <td>PG-13</td>\n",
              "      <td>Action</td>\n",
              "      <td>2008</td>\n",
              "      <td>July 18, 2008 (United States)</td>\n",
              "      <td>9.0</td>\n",
              "      <td>2400000.0</td>\n",
              "      <td>Christopher Nolan</td>\n",
              "      <td>Jonathan Nolan</td>\n",
              "      <td>Christian Bale</td>\n",
              "      <td>United States</td>\n",
              "      <td>185000000.0</td>\n",
              "      <td>1.005974e+09</td>\n",
              "      <td>Warner Bros.</td>\n",
              "      <td>152.0</td>\n",
              "    </tr>\n",
              "    <tr>\n",
              "      <th>5643</th>\n",
              "      <td>Inception</td>\n",
              "      <td>PG-13</td>\n",
              "      <td>Action</td>\n",
              "      <td>2010</td>\n",
              "      <td>July 16, 2010 (United States)</td>\n",
              "      <td>8.8</td>\n",
              "      <td>2100000.0</td>\n",
              "      <td>Christopher Nolan</td>\n",
              "      <td>Christopher Nolan</td>\n",
              "      <td>Leonardo DiCaprio</td>\n",
              "      <td>United States</td>\n",
              "      <td>160000000.0</td>\n",
              "      <td>8.368370e+08</td>\n",
              "      <td>Warner Bros.</td>\n",
              "      <td>148.0</td>\n",
              "    </tr>\n",
              "    <tr>\n",
              "      <th>2</th>\n",
              "      <td>Star Wars: Episode V - The Empire Strikes Back</td>\n",
              "      <td>PG</td>\n",
              "      <td>Action</td>\n",
              "      <td>1980</td>\n",
              "      <td>June 20, 1980 (United States)</td>\n",
              "      <td>8.7</td>\n",
              "      <td>1200000.0</td>\n",
              "      <td>Irvin Kershner</td>\n",
              "      <td>Leigh Brackett</td>\n",
              "      <td>Mark Hamill</td>\n",
              "      <td>United States</td>\n",
              "      <td>18000000.0</td>\n",
              "      <td>5.383751e+08</td>\n",
              "      <td>Lucasfilm</td>\n",
              "      <td>124.0</td>\n",
              "    </tr>\n",
              "    <tr>\n",
              "      <th>3443</th>\n",
              "      <td>The Matrix</td>\n",
              "      <td>R</td>\n",
              "      <td>Action</td>\n",
              "      <td>1999</td>\n",
              "      <td>March 31, 1999 (United States)</td>\n",
              "      <td>8.7</td>\n",
              "      <td>1700000.0</td>\n",
              "      <td>Lana Wachowski</td>\n",
              "      <td>Lilly Wachowski</td>\n",
              "      <td>Keanu Reeves</td>\n",
              "      <td>United States</td>\n",
              "      <td>63000000.0</td>\n",
              "      <td>4.663648e+08</td>\n",
              "      <td>Warner Bros.</td>\n",
              "      <td>136.0</td>\n",
              "    </tr>\n",
              "    <tr>\n",
              "      <th>3645</th>\n",
              "      <td>Gladiator</td>\n",
              "      <td>R</td>\n",
              "      <td>Action</td>\n",
              "      <td>2000</td>\n",
              "      <td>May 5, 2000 (United States)</td>\n",
              "      <td>8.5</td>\n",
              "      <td>1400000.0</td>\n",
              "      <td>Ridley Scott</td>\n",
              "      <td>David Franzoni</td>\n",
              "      <td>Russell Crowe</td>\n",
              "      <td>United States</td>\n",
              "      <td>103000000.0</td>\n",
              "      <td>4.653808e+08</td>\n",
              "      <td>Dreamworks Pictures</td>\n",
              "      <td>155.0</td>\n",
              "    </tr>\n",
              "  </tbody>\n",
              "</table>\n",
              "</div>"
            ],
            "text/plain": [
              "                                                name rating   genre  year  \\\n",
              "5243                                 The Dark Knight  PG-13  Action  2008   \n",
              "5643                                       Inception  PG-13  Action  2010   \n",
              "2     Star Wars: Episode V - The Empire Strikes Back     PG  Action  1980   \n",
              "3443                                      The Matrix      R  Action  1999   \n",
              "3645                                       Gladiator      R  Action  2000   \n",
              "\n",
              "                            released  score      votes           director  \\\n",
              "5243   July 18, 2008 (United States)    9.0  2400000.0  Christopher Nolan   \n",
              "5643   July 16, 2010 (United States)    8.8  2100000.0  Christopher Nolan   \n",
              "2      June 20, 1980 (United States)    8.7  1200000.0     Irvin Kershner   \n",
              "3443  March 31, 1999 (United States)    8.7  1700000.0     Lana Wachowski   \n",
              "3645     May 5, 2000 (United States)    8.5  1400000.0       Ridley Scott   \n",
              "\n",
              "                 writer               star        country       budget  \\\n",
              "5243     Jonathan Nolan     Christian Bale  United States  185000000.0   \n",
              "5643  Christopher Nolan  Leonardo DiCaprio  United States  160000000.0   \n",
              "2        Leigh Brackett        Mark Hamill  United States   18000000.0   \n",
              "3443    Lilly Wachowski       Keanu Reeves  United States   63000000.0   \n",
              "3645     David Franzoni      Russell Crowe  United States  103000000.0   \n",
              "\n",
              "             gross              company  runtime  \n",
              "5243  1.005974e+09         Warner Bros.    152.0  \n",
              "5643  8.368370e+08         Warner Bros.    148.0  \n",
              "2     5.383751e+08            Lucasfilm    124.0  \n",
              "3443  4.663648e+08         Warner Bros.    136.0  \n",
              "3645  4.653808e+08  Dreamworks Pictures    155.0  "
            ]
          },
          "execution_count": 622,
          "metadata": {},
          "output_type": "execute_result"
        }
      ],
      "source": [
        "genre = movie_final[(movie_final[\"country\"] == \"United States\") & (movie_final[\"genre\"] == \"Action\")]\n",
        "genre.sort_values(\"score\", ascending = False).head()"
      ]
    },
    {
      "cell_type": "code",
      "execution_count": null,
      "id": "e5a9c6b5",
      "metadata": {
        "id": "e5a9c6b5",
        "outputId": "66776037-9bb1-4a83-814e-0c04cacafb5a"
      },
      "outputs": [
        {
          "data": {
            "text/plain": [
              "company\n",
              "Columbia Pictures        163\n",
              "Warner Bros.             155\n",
              "Universal Pictures       152\n",
              "Paramount Pictures       121\n",
              "Twentieth Century Fox    114\n",
              "dtype: int64"
            ]
          },
          "execution_count": 623,
          "metadata": {},
          "output_type": "execute_result"
        }
      ],
      "source": [
        "year.groupby(\"company\").size().nlargest()"
      ]
    },
    {
      "cell_type": "markdown",
      "id": "1b92105e",
      "metadata": {
        "id": "1b92105e"
      },
      "source": [
        "#### 4. Movies produced by Warer Bros. since 2000\n",
        "Previously, in the case of action movies in the United States, it was confirmed that movies produced by Warner Bros accounted for a large proportion with 3 out of 5 top rating score. Therefore, we would like to understand the characteristics of the movie after 2000 of the production company. When the movies corresponding to the top 5 rating score were extracted, it can be confirmed that all 3 movies worked with director \"Christopher Nolan\" were action movies, and it was confirmed that 4 out of 5 movies were produced in the United States.<br> \n",
        "When the actors they worked with were checked, it was found that \"Daniel Radcliffe\" had the most appearances with number 7. On the other hand, movies they worked with \"Christian Bale\" and \"Leonardo DiCaprio\" twice each received higher rating score. "
      ]
    },
    {
      "cell_type": "code",
      "execution_count": null,
      "id": "e8c88db9",
      "metadata": {
        "id": "e8c88db9",
        "outputId": "c5c8e925-4e1a-46ea-f631-d4617b26dd55"
      },
      "outputs": [
        {
          "data": {
            "text/html": [
              "<div>\n",
              "<style scoped>\n",
              "    .dataframe tbody tr th:only-of-type {\n",
              "        vertical-align: middle;\n",
              "    }\n",
              "\n",
              "    .dataframe tbody tr th {\n",
              "        vertical-align: top;\n",
              "    }\n",
              "\n",
              "    .dataframe thead th {\n",
              "        text-align: right;\n",
              "    }\n",
              "</style>\n",
              "<table border=\"1\" class=\"dataframe\">\n",
              "  <thead>\n",
              "    <tr style=\"text-align: right;\">\n",
              "      <th></th>\n",
              "      <th>name</th>\n",
              "      <th>rating</th>\n",
              "      <th>genre</th>\n",
              "      <th>year</th>\n",
              "      <th>released</th>\n",
              "      <th>score</th>\n",
              "      <th>votes</th>\n",
              "      <th>director</th>\n",
              "      <th>writer</th>\n",
              "      <th>star</th>\n",
              "      <th>country</th>\n",
              "      <th>budget</th>\n",
              "      <th>gross</th>\n",
              "      <th>company</th>\n",
              "      <th>runtime</th>\n",
              "    </tr>\n",
              "  </thead>\n",
              "  <tbody>\n",
              "    <tr>\n",
              "      <th>5243</th>\n",
              "      <td>The Dark Knight</td>\n",
              "      <td>PG-13</td>\n",
              "      <td>Action</td>\n",
              "      <td>2008</td>\n",
              "      <td>July 18, 2008 (United States)</td>\n",
              "      <td>9.0</td>\n",
              "      <td>2400000.0</td>\n",
              "      <td>Christopher Nolan</td>\n",
              "      <td>Jonathan Nolan</td>\n",
              "      <td>Christian Bale</td>\n",
              "      <td>United States</td>\n",
              "      <td>185000000.0</td>\n",
              "      <td>1.005974e+09</td>\n",
              "      <td>Warner Bros.</td>\n",
              "      <td>152.0</td>\n",
              "    </tr>\n",
              "    <tr>\n",
              "      <th>5643</th>\n",
              "      <td>Inception</td>\n",
              "      <td>PG-13</td>\n",
              "      <td>Action</td>\n",
              "      <td>2010</td>\n",
              "      <td>July 16, 2010 (United States)</td>\n",
              "      <td>8.8</td>\n",
              "      <td>2100000.0</td>\n",
              "      <td>Christopher Nolan</td>\n",
              "      <td>Christopher Nolan</td>\n",
              "      <td>Leonardo DiCaprio</td>\n",
              "      <td>United States</td>\n",
              "      <td>160000000.0</td>\n",
              "      <td>8.368370e+08</td>\n",
              "      <td>Warner Bros.</td>\n",
              "      <td>148.0</td>\n",
              "    </tr>\n",
              "    <tr>\n",
              "      <th>4843</th>\n",
              "      <td>The Departed</td>\n",
              "      <td>R</td>\n",
              "      <td>Crime</td>\n",
              "      <td>2006</td>\n",
              "      <td>October 6, 2006 (United States)</td>\n",
              "      <td>8.5</td>\n",
              "      <td>1200000.0</td>\n",
              "      <td>Martin Scorsese</td>\n",
              "      <td>William Monahan</td>\n",
              "      <td>Leonardo DiCaprio</td>\n",
              "      <td>United States</td>\n",
              "      <td>90000000.0</td>\n",
              "      <td>2.914654e+08</td>\n",
              "      <td>Warner Bros.</td>\n",
              "      <td>151.0</td>\n",
              "    </tr>\n",
              "    <tr>\n",
              "      <th>6047</th>\n",
              "      <td>The Dark Knight Rises</td>\n",
              "      <td>PG-13</td>\n",
              "      <td>Action</td>\n",
              "      <td>2012</td>\n",
              "      <td>July 20, 2012 (United States)</td>\n",
              "      <td>8.4</td>\n",
              "      <td>1600000.0</td>\n",
              "      <td>Christopher Nolan</td>\n",
              "      <td>Jonathan Nolan</td>\n",
              "      <td>Christian Bale</td>\n",
              "      <td>United Kingdom</td>\n",
              "      <td>250000000.0</td>\n",
              "      <td>1.081143e+09</td>\n",
              "      <td>Warner Bros.</td>\n",
              "      <td>164.0</td>\n",
              "    </tr>\n",
              "    <tr>\n",
              "      <th>7450</th>\n",
              "      <td>Joker</td>\n",
              "      <td>R</td>\n",
              "      <td>Crime</td>\n",
              "      <td>2019</td>\n",
              "      <td>October 4, 2019 (United States)</td>\n",
              "      <td>8.4</td>\n",
              "      <td>1000000.0</td>\n",
              "      <td>Todd Phillips</td>\n",
              "      <td>Todd Phillips</td>\n",
              "      <td>Joaquin Phoenix</td>\n",
              "      <td>United States</td>\n",
              "      <td>55000000.0</td>\n",
              "      <td>1.074427e+09</td>\n",
              "      <td>Warner Bros.</td>\n",
              "      <td>122.0</td>\n",
              "    </tr>\n",
              "  </tbody>\n",
              "</table>\n",
              "</div>"
            ],
            "text/plain": [
              "                       name rating   genre  year  \\\n",
              "5243        The Dark Knight  PG-13  Action  2008   \n",
              "5643              Inception  PG-13  Action  2010   \n",
              "4843           The Departed      R   Crime  2006   \n",
              "6047  The Dark Knight Rises  PG-13  Action  2012   \n",
              "7450                  Joker      R   Crime  2019   \n",
              "\n",
              "                             released  score      votes           director  \\\n",
              "5243    July 18, 2008 (United States)    9.0  2400000.0  Christopher Nolan   \n",
              "5643    July 16, 2010 (United States)    8.8  2100000.0  Christopher Nolan   \n",
              "4843  October 6, 2006 (United States)    8.5  1200000.0    Martin Scorsese   \n",
              "6047    July 20, 2012 (United States)    8.4  1600000.0  Christopher Nolan   \n",
              "7450  October 4, 2019 (United States)    8.4  1000000.0      Todd Phillips   \n",
              "\n",
              "                 writer               star         country       budget  \\\n",
              "5243     Jonathan Nolan     Christian Bale   United States  185000000.0   \n",
              "5643  Christopher Nolan  Leonardo DiCaprio   United States  160000000.0   \n",
              "4843    William Monahan  Leonardo DiCaprio   United States   90000000.0   \n",
              "6047     Jonathan Nolan     Christian Bale  United Kingdom  250000000.0   \n",
              "7450      Todd Phillips    Joaquin Phoenix   United States   55000000.0   \n",
              "\n",
              "             gross       company  runtime  \n",
              "5243  1.005974e+09  Warner Bros.    152.0  \n",
              "5643  8.368370e+08  Warner Bros.    148.0  \n",
              "4843  2.914654e+08  Warner Bros.    151.0  \n",
              "6047  1.081143e+09  Warner Bros.    164.0  \n",
              "7450  1.074427e+09  Warner Bros.    122.0  "
            ]
          },
          "execution_count": 624,
          "metadata": {},
          "output_type": "execute_result"
        }
      ],
      "source": [
        "company = movie_final[(movie_final[\"company\"] == \"Warner Bros.\")  & (movie_final[\"year\"] >= 2000)]\n",
        "company.nlargest(5, \"score\")"
      ]
    },
    {
      "cell_type": "code",
      "execution_count": null,
      "id": "db48082b",
      "metadata": {
        "id": "db48082b",
        "outputId": "42138e47-a781-4c7a-bd31-5163d16170cc"
      },
      "outputs": [
        {
          "data": {
            "text/plain": [
              "star\n",
              "Daniel Radcliffe     7\n",
              "Ben Affleck          5\n",
              "George Clooney       5\n",
              "Keanu Reeves         5\n",
              "Leonardo DiCaprio    5\n",
              "Robert Downey Jr.    5\n",
              "Gerard Butler        4\n",
              "Brad Pitt            3\n",
              "Christian Bale       3\n",
              "Johnny Depp          3\n",
              "dtype: int64"
            ]
          },
          "execution_count": 625,
          "metadata": {},
          "output_type": "execute_result"
        }
      ],
      "source": [
        "company.groupby(\"star\").size().nlargest(10)"
      ]
    },
    {
      "cell_type": "markdown",
      "id": "d4e696fc",
      "metadata": {
        "id": "d4e696fc"
      },
      "source": [
        "#### 5. Movies since 2000 by the director \"Christopher Nolan\"\n",
        "Most of the top-rated action movies in the US were produced by Warner Bros. The production company was highly rated for working with director \"Christopher Nolan\". Based on this, we would like to examine the characteristics of the director's movies released after 2000. If you look at the top five releases, you can see that movies were made in the United States, with the exception of \"The Prestige\", which was produced in the UK in 2006. \"Christopher Nolan\" worked as a director and writer, and the writer he worked with a lot except for himself was \"Jonathan Nolan\". Three of the movies they worked with were in the top rated in rating score and two of them were produced by Warner Bros. and the other one was produced by the production company called Touchstone Pictures. Also two of them were made with actor \"Christian Bale\" and the rest was made with \"Leonardo DiCaprio\"."
      ]
    },
    {
      "cell_type": "code",
      "execution_count": null,
      "id": "87b47bc9",
      "metadata": {
        "id": "87b47bc9",
        "outputId": "008df3c8-b463-4b62-b8fa-08b287dd3f8f"
      },
      "outputs": [
        {
          "data": {
            "text/html": [
              "<div>\n",
              "<style scoped>\n",
              "    .dataframe tbody tr th:only-of-type {\n",
              "        vertical-align: middle;\n",
              "    }\n",
              "\n",
              "    .dataframe tbody tr th {\n",
              "        vertical-align: top;\n",
              "    }\n",
              "\n",
              "    .dataframe thead th {\n",
              "        text-align: right;\n",
              "    }\n",
              "</style>\n",
              "<table border=\"1\" class=\"dataframe\">\n",
              "  <thead>\n",
              "    <tr style=\"text-align: right;\">\n",
              "      <th></th>\n",
              "      <th>name</th>\n",
              "      <th>rating</th>\n",
              "      <th>genre</th>\n",
              "      <th>year</th>\n",
              "      <th>released</th>\n",
              "      <th>score</th>\n",
              "      <th>votes</th>\n",
              "      <th>director</th>\n",
              "      <th>writer</th>\n",
              "      <th>star</th>\n",
              "      <th>country</th>\n",
              "      <th>budget</th>\n",
              "      <th>gross</th>\n",
              "      <th>company</th>\n",
              "      <th>runtime</th>\n",
              "    </tr>\n",
              "  </thead>\n",
              "  <tbody>\n",
              "    <tr>\n",
              "      <th>5243</th>\n",
              "      <td>The Dark Knight</td>\n",
              "      <td>PG-13</td>\n",
              "      <td>Action</td>\n",
              "      <td>2008</td>\n",
              "      <td>July 18, 2008 (United States)</td>\n",
              "      <td>9.0</td>\n",
              "      <td>2400000.0</td>\n",
              "      <td>Christopher Nolan</td>\n",
              "      <td>Jonathan Nolan</td>\n",
              "      <td>Christian Bale</td>\n",
              "      <td>United States</td>\n",
              "      <td>185000000.0</td>\n",
              "      <td>1.005974e+09</td>\n",
              "      <td>Warner Bros.</td>\n",
              "      <td>152.0</td>\n",
              "    </tr>\n",
              "    <tr>\n",
              "      <th>5643</th>\n",
              "      <td>Inception</td>\n",
              "      <td>PG-13</td>\n",
              "      <td>Action</td>\n",
              "      <td>2010</td>\n",
              "      <td>July 16, 2010 (United States)</td>\n",
              "      <td>8.8</td>\n",
              "      <td>2100000.0</td>\n",
              "      <td>Christopher Nolan</td>\n",
              "      <td>Christopher Nolan</td>\n",
              "      <td>Leonardo DiCaprio</td>\n",
              "      <td>United States</td>\n",
              "      <td>160000000.0</td>\n",
              "      <td>8.368370e+08</td>\n",
              "      <td>Warner Bros.</td>\n",
              "      <td>148.0</td>\n",
              "    </tr>\n",
              "    <tr>\n",
              "      <th>6444</th>\n",
              "      <td>Interstellar</td>\n",
              "      <td>PG-13</td>\n",
              "      <td>Adventure</td>\n",
              "      <td>2014</td>\n",
              "      <td>November 7, 2014 (United States)</td>\n",
              "      <td>8.6</td>\n",
              "      <td>1600000.0</td>\n",
              "      <td>Christopher Nolan</td>\n",
              "      <td>Jonathan Nolan</td>\n",
              "      <td>Matthew McConaughey</td>\n",
              "      <td>United States</td>\n",
              "      <td>165000000.0</td>\n",
              "      <td>7.017292e+08</td>\n",
              "      <td>Paramount Pictures</td>\n",
              "      <td>169.0</td>\n",
              "    </tr>\n",
              "    <tr>\n",
              "      <th>4846</th>\n",
              "      <td>The Prestige</td>\n",
              "      <td>PG-13</td>\n",
              "      <td>Drama</td>\n",
              "      <td>2006</td>\n",
              "      <td>October 20, 2006 (United States)</td>\n",
              "      <td>8.5</td>\n",
              "      <td>1200000.0</td>\n",
              "      <td>Christopher Nolan</td>\n",
              "      <td>Jonathan Nolan</td>\n",
              "      <td>Christian Bale</td>\n",
              "      <td>United Kingdom</td>\n",
              "      <td>40000000.0</td>\n",
              "      <td>1.096763e+08</td>\n",
              "      <td>Touchstone Pictures</td>\n",
              "      <td>130.0</td>\n",
              "    </tr>\n",
              "    <tr>\n",
              "      <th>3648</th>\n",
              "      <td>Memento</td>\n",
              "      <td>R</td>\n",
              "      <td>Mystery</td>\n",
              "      <td>2000</td>\n",
              "      <td>May 25, 2001 (United States)</td>\n",
              "      <td>8.4</td>\n",
              "      <td>1200000.0</td>\n",
              "      <td>Christopher Nolan</td>\n",
              "      <td>Christopher Nolan</td>\n",
              "      <td>Guy Pearce</td>\n",
              "      <td>United States</td>\n",
              "      <td>9000000.0</td>\n",
              "      <td>4.004708e+07</td>\n",
              "      <td>Newmarket Capital Group</td>\n",
              "      <td>113.0</td>\n",
              "    </tr>\n",
              "  </tbody>\n",
              "</table>\n",
              "</div>"
            ],
            "text/plain": [
              "                 name rating      genre  year  \\\n",
              "5243  The Dark Knight  PG-13     Action  2008   \n",
              "5643        Inception  PG-13     Action  2010   \n",
              "6444     Interstellar  PG-13  Adventure  2014   \n",
              "4846     The Prestige  PG-13      Drama  2006   \n",
              "3648          Memento      R    Mystery  2000   \n",
              "\n",
              "                              released  score      votes           director  \\\n",
              "5243     July 18, 2008 (United States)    9.0  2400000.0  Christopher Nolan   \n",
              "5643     July 16, 2010 (United States)    8.8  2100000.0  Christopher Nolan   \n",
              "6444  November 7, 2014 (United States)    8.6  1600000.0  Christopher Nolan   \n",
              "4846  October 20, 2006 (United States)    8.5  1200000.0  Christopher Nolan   \n",
              "3648      May 25, 2001 (United States)    8.4  1200000.0  Christopher Nolan   \n",
              "\n",
              "                 writer                 star         country       budget  \\\n",
              "5243     Jonathan Nolan       Christian Bale   United States  185000000.0   \n",
              "5643  Christopher Nolan    Leonardo DiCaprio   United States  160000000.0   \n",
              "6444     Jonathan Nolan  Matthew McConaughey   United States  165000000.0   \n",
              "4846     Jonathan Nolan       Christian Bale  United Kingdom   40000000.0   \n",
              "3648  Christopher Nolan           Guy Pearce   United States    9000000.0   \n",
              "\n",
              "             gross                  company  runtime  \n",
              "5243  1.005974e+09             Warner Bros.    152.0  \n",
              "5643  8.368370e+08             Warner Bros.    148.0  \n",
              "6444  7.017292e+08       Paramount Pictures    169.0  \n",
              "4846  1.096763e+08      Touchstone Pictures    130.0  \n",
              "3648  4.004708e+07  Newmarket Capital Group    113.0  "
            ]
          },
          "execution_count": 626,
          "metadata": {},
          "output_type": "execute_result"
        }
      ],
      "source": [
        "director = movie_final[(movie_final[\"director\"] == \"Christopher Nolan\") & (movie_final[\"year\"] >= 2000)]\n",
        "director.nlargest(5, \"score\")"
      ]
    },
    {
      "cell_type": "code",
      "execution_count": null,
      "id": "6068fbc3",
      "metadata": {
        "id": "6068fbc3",
        "outputId": "dc3fa397-d1e1-4978-9aae-56db2d21832b"
      },
      "outputs": [
        {
          "data": {
            "text/plain": [
              "writer\n",
              "Bob Kane             1\n",
              "Christopher Nolan    4\n",
              "Hillary Seitz        1\n",
              "Jonathan Nolan       4\n",
              "dtype: int64"
            ]
          },
          "execution_count": 627,
          "metadata": {},
          "output_type": "execute_result"
        }
      ],
      "source": [
        "director.groupby(\"writer\").size()"
      ]
    },
    {
      "cell_type": "markdown",
      "id": "c6450a07",
      "metadata": {
        "id": "c6450a07"
      },
      "source": [
        "## 4. Visualizations"
      ]
    },
    {
      "cell_type": "code",
      "execution_count": null,
      "id": "26b217f9",
      "metadata": {
        "id": "26b217f9",
        "outputId": "6970b990-cee4-46ad-9c61-803a362bb320"
      },
      "outputs": [
        {
          "data": {
            "text/html": [
              "<div>\n",
              "<style scoped>\n",
              "    .dataframe tbody tr th:only-of-type {\n",
              "        vertical-align: middle;\n",
              "    }\n",
              "\n",
              "    .dataframe tbody tr th {\n",
              "        vertical-align: top;\n",
              "    }\n",
              "\n",
              "    .dataframe thead th {\n",
              "        text-align: right;\n",
              "    }\n",
              "</style>\n",
              "<table border=\"1\" class=\"dataframe\">\n",
              "  <thead>\n",
              "    <tr style=\"text-align: right;\">\n",
              "      <th></th>\n",
              "      <th>name</th>\n",
              "      <th>rating</th>\n",
              "      <th>genre</th>\n",
              "      <th>year</th>\n",
              "      <th>released</th>\n",
              "      <th>score</th>\n",
              "      <th>votes</th>\n",
              "      <th>director</th>\n",
              "      <th>writer</th>\n",
              "      <th>star</th>\n",
              "      <th>country</th>\n",
              "      <th>budget</th>\n",
              "      <th>gross</th>\n",
              "      <th>company</th>\n",
              "      <th>runtime</th>\n",
              "    </tr>\n",
              "  </thead>\n",
              "  <tbody>\n",
              "    <tr>\n",
              "      <th>1</th>\n",
              "      <td>The Blue Lagoon</td>\n",
              "      <td>R</td>\n",
              "      <td>Adventure</td>\n",
              "      <td>1980</td>\n",
              "      <td>July 2, 1980 (United States)</td>\n",
              "      <td>5.8</td>\n",
              "      <td>65000.0</td>\n",
              "      <td>Randal Kleiser</td>\n",
              "      <td>Henry De Vere Stacpoole</td>\n",
              "      <td>Brooke Shields</td>\n",
              "      <td>United States</td>\n",
              "      <td>4500000.0</td>\n",
              "      <td>58853106.0</td>\n",
              "      <td>Columbia Pictures</td>\n",
              "      <td>104.0</td>\n",
              "    </tr>\n",
              "    <tr>\n",
              "      <th>2</th>\n",
              "      <td>Star Wars: Episode V - The Empire Strikes Back</td>\n",
              "      <td>PG</td>\n",
              "      <td>Action</td>\n",
              "      <td>1980</td>\n",
              "      <td>June 20, 1980 (United States)</td>\n",
              "      <td>8.7</td>\n",
              "      <td>1200000.0</td>\n",
              "      <td>Irvin Kershner</td>\n",
              "      <td>Leigh Brackett</td>\n",
              "      <td>Mark Hamill</td>\n",
              "      <td>United States</td>\n",
              "      <td>18000000.0</td>\n",
              "      <td>538375067.0</td>\n",
              "      <td>Lucasfilm</td>\n",
              "      <td>124.0</td>\n",
              "    </tr>\n",
              "    <tr>\n",
              "      <th>3</th>\n",
              "      <td>Airplane!</td>\n",
              "      <td>PG</td>\n",
              "      <td>Comedy</td>\n",
              "      <td>1980</td>\n",
              "      <td>July 2, 1980 (United States)</td>\n",
              "      <td>7.7</td>\n",
              "      <td>221000.0</td>\n",
              "      <td>Jim Abrahams</td>\n",
              "      <td>Jim Abrahams</td>\n",
              "      <td>Robert Hays</td>\n",
              "      <td>United States</td>\n",
              "      <td>3500000.0</td>\n",
              "      <td>83453539.0</td>\n",
              "      <td>Paramount Pictures</td>\n",
              "      <td>88.0</td>\n",
              "    </tr>\n",
              "    <tr>\n",
              "      <th>4</th>\n",
              "      <td>Caddyshack</td>\n",
              "      <td>R</td>\n",
              "      <td>Comedy</td>\n",
              "      <td>1980</td>\n",
              "      <td>July 25, 1980 (United States)</td>\n",
              "      <td>7.3</td>\n",
              "      <td>108000.0</td>\n",
              "      <td>Harold Ramis</td>\n",
              "      <td>Brian Doyle-Murray</td>\n",
              "      <td>Chevy Chase</td>\n",
              "      <td>United States</td>\n",
              "      <td>6000000.0</td>\n",
              "      <td>39846344.0</td>\n",
              "      <td>Orion Pictures</td>\n",
              "      <td>98.0</td>\n",
              "    </tr>\n",
              "    <tr>\n",
              "      <th>5</th>\n",
              "      <td>Friday the 13th</td>\n",
              "      <td>R</td>\n",
              "      <td>Horror</td>\n",
              "      <td>1980</td>\n",
              "      <td>May 9, 1980 (United States)</td>\n",
              "      <td>6.4</td>\n",
              "      <td>123000.0</td>\n",
              "      <td>Sean S. Cunningham</td>\n",
              "      <td>Victor Miller</td>\n",
              "      <td>Betsy Palmer</td>\n",
              "      <td>United States</td>\n",
              "      <td>550000.0</td>\n",
              "      <td>39754601.0</td>\n",
              "      <td>Paramount Pictures</td>\n",
              "      <td>95.0</td>\n",
              "    </tr>\n",
              "  </tbody>\n",
              "</table>\n",
              "</div>"
            ],
            "text/plain": [
              "                                             name rating      genre  year  \\\n",
              "1                                 The Blue Lagoon      R  Adventure  1980   \n",
              "2  Star Wars: Episode V - The Empire Strikes Back     PG     Action  1980   \n",
              "3                                       Airplane!     PG     Comedy  1980   \n",
              "4                                      Caddyshack      R     Comedy  1980   \n",
              "5                                 Friday the 13th      R     Horror  1980   \n",
              "\n",
              "                        released  score      votes            director  \\\n",
              "1   July 2, 1980 (United States)    5.8    65000.0      Randal Kleiser   \n",
              "2  June 20, 1980 (United States)    8.7  1200000.0      Irvin Kershner   \n",
              "3   July 2, 1980 (United States)    7.7   221000.0        Jim Abrahams   \n",
              "4  July 25, 1980 (United States)    7.3   108000.0        Harold Ramis   \n",
              "5    May 9, 1980 (United States)    6.4   123000.0  Sean S. Cunningham   \n",
              "\n",
              "                    writer            star        country      budget  \\\n",
              "1  Henry De Vere Stacpoole  Brooke Shields  United States   4500000.0   \n",
              "2           Leigh Brackett     Mark Hamill  United States  18000000.0   \n",
              "3             Jim Abrahams     Robert Hays  United States   3500000.0   \n",
              "4       Brian Doyle-Murray     Chevy Chase  United States   6000000.0   \n",
              "5            Victor Miller    Betsy Palmer  United States    550000.0   \n",
              "\n",
              "         gross             company  runtime  \n",
              "1   58853106.0   Columbia Pictures    104.0  \n",
              "2  538375067.0           Lucasfilm    124.0  \n",
              "3   83453539.0  Paramount Pictures     88.0  \n",
              "4   39846344.0      Orion Pictures     98.0  \n",
              "5   39754601.0  Paramount Pictures     95.0  "
            ]
          },
          "execution_count": 628,
          "metadata": {},
          "output_type": "execute_result"
        }
      ],
      "source": [
        "# By setting the United States as a target among countries, the information about movies released in the US is extracted.\n",
        "us = movie_final[movie_final[\"country\"] == \"United States\"]\n",
        "us.head()"
      ]
    },
    {
      "cell_type": "markdown",
      "id": "ee935f35",
      "metadata": {
        "id": "ee935f35"
      },
      "source": [
        "#### 1. Score vs Runtime\n",
        "Shows the running times of movies with a score of 8.5 or higher in a scatterplot graph by score. The shortest running time was less than 100 minutes and the longest running time was found to be approximately 200 minutes. The running time of the movie with the highest score was estimated to be about 140 to 150 minutes. Since the running times were evenly distributed between 8.5 and 8.9, it can be seen that the running times do not seem to significantly affect the score."
      ]
    },
    {
      "cell_type": "code",
      "execution_count": null,
      "id": "f0349ea0",
      "metadata": {
        "id": "f0349ea0"
      },
      "outputs": [],
      "source": [
        "import matplotlib.pyplot as plt"
      ]
    },
    {
      "cell_type": "code",
      "execution_count": null,
      "id": "e667f546",
      "metadata": {
        "id": "e667f546",
        "outputId": "641ca72b-681f-43ad-a5f0-6e6871975bfe"
      },
      "outputs": [
        {
          "data": {
            "text/plain": [
              "<AxesSubplot:xlabel='score', ylabel='runtime'>"
            ]
          },
          "execution_count": 630,
          "metadata": {},
          "output_type": "execute_result"
        },
        {
          "data": {
            "image/png": "[encoded data removed]",
            "text/plain": [
              "<Figure size 432x288 with 1 Axes>"
            ]
          },
          "metadata": {
            "needs_background": "light"
          },
          "output_type": "display_data"
        }
      ],
      "source": [
        "score.plot(x=\"score\", y=\"runtime\", kind=\"scatter\")"
      ]
    },
    {
      "cell_type": "markdown",
      "id": "3853a2b9",
      "metadata": {
        "id": "3853a2b9"
      },
      "source": [
        "#### 2. Score distribution\n",
        "The following is a histogram comparing the user rating score of comprehensive movie data with the user rating score of movies produced in the United States. The two graphs show a generally similar distribution, and between points 4 and 9, it can be seen that the cumulative score value of US-produced movies is smaller than when the entire movie was targeted. From the histogram, it can be seen that many movies scored between 6 and 7 both when targeting all movies and when limited to movies produced in the United States. It is also confirmed that a score of 9 or higher was for a movie produced in the United States."
      ]
    },
    {
      "cell_type": "code",
      "execution_count": null,
      "id": "6ae3c28a",
      "metadata": {
        "id": "6ae3c28a",
        "outputId": "3dd40bd1-4fe8-421d-ba7d-41031958d99d"
      },
      "outputs": [
        {
          "data": {
            "text/plain": [
              "<matplotlib.legend.Legend at 0x1df8817b880>"
            ]
          },
          "execution_count": 631,
          "metadata": {},
          "output_type": "execute_result"
        },
        {
          "data": {
            "image/png": "[encoded data removed]",
            "text/plain": [
              "<Figure size 432x288 with 1 Axes>"
            ]
          },
          "metadata": {
            "needs_background": "light"
          },
          "output_type": "display_data"
        }
      ],
      "source": [
        "movie_final[\"score\"].plot(kind=\"hist\")\n",
        "us[\"score\"].plot(kind=\"hist\")\n",
        "plt.title(\"IMDb user rating - Total vs.US\")\n",
        "plt.xlabel(\"Score\")\n",
        "plt.ylabel(\"Frequency\")\n",
        "plt.legend(labels=[\"User rating_Total\",\"User rating_US\"])"
      ]
    },
    {
      "cell_type": "markdown",
      "id": "b602682b",
      "metadata": {
        "id": "b602682b"
      },
      "source": [
        "#### 3. Genre proportion of a specific director's film(\"Christopher Nolan\")\n",
        "The following is a pie chart to check the genre ratio of the movies released by the film director \"Christopher Nolan\". At a glance, it can be seen that the proportion of the action genre is large. The genre that occupied the next largest proportion was drama. In addition, this pie chart shows that he made films in the adventure and mystery genres as well."
      ]
    },
    {
      "cell_type": "code",
      "execution_count": null,
      "id": "3f5e5fb5",
      "metadata": {
        "id": "3f5e5fb5",
        "outputId": "1510279f-0397-48ab-f2b8-7b1aba5eff8b"
      },
      "outputs": [
        {
          "data": {
            "text/plain": [
              "<AxesSubplot:ylabel='genre'>"
            ]
          },
          "execution_count": 632,
          "metadata": {},
          "output_type": "execute_result"
        },
        {
          "data": {
            "image/png": "[encoded data removed]",
            "text/plain": [
              "<Figure size 432x288 with 1 Axes>"
            ]
          },
          "metadata": {},
          "output_type": "display_data"
        }
      ],
      "source": [
        "director.groupby(\"genre\")[\"genre\"].count().plot(kind=\"pie\")"
      ]
    },
    {
      "cell_type": "markdown",
      "id": "adc39519",
      "metadata": {
        "id": "adc39519"
      },
      "source": [
        "#### 4. Generated revenue by collaborating writers(with \"Christopher Nolan\")\n",
        "The following is a bar graph showing the revenue of the movies of director \"Christopher Nolan\", comparing them by classification based on the writers he worked with. The director worked with four different writers and the highest-grossing film was with writer \"Jonathan Nolan\". The second highest-grossing film was when \"Christopher Nolan\" himself produced a movie as a director and writer at the same time."
      ]
    },
    {
      "cell_type": "code",
      "execution_count": null,
      "id": "c019aa59",
      "metadata": {
        "id": "c019aa59",
        "outputId": "264fd8f1-d733-475a-abb0-1d7c48c2113e"
      },
      "outputs": [
        {
          "data": {
            "text/plain": [
              "Text(0, 0.5, 'Revenue of the movie')"
            ]
          },
          "execution_count": 633,
          "metadata": {},
          "output_type": "execute_result"
        },
        {
          "data": {
            "image/png": "[encoded data removed]",
            "text/plain": [
              "<Figure size 432x288 with 1 Axes>"
            ]
          },
          "metadata": {
            "needs_background": "light"
          },
          "output_type": "display_data"
        }
      ],
      "source": [
        "plt.bar(director[\"writer\"], director[\"gross\"])\n",
        "plt.title(\"Revenue by writer collaborated with\", size=15)\n",
        "plt.xlabel(\"Writer of the movie\")\n",
        "plt.ylabel(\"Revenue of the movie\")"
      ]
    },
    {
      "cell_type": "markdown",
      "id": "3eec93f1",
      "metadata": {
        "id": "3eec93f1"
      },
      "source": [
        "## 5. Summary"
      ]
    },
    {
      "cell_type": "markdown",
      "id": "38f4fae2",
      "metadata": {
        "id": "38f4fae2"
      },
      "source": [
        "\n",
        "Data were extracted based on user ratings. Based on user ratings of 8.5 or higher, the highest rating was 9.3, and the portion of American movies was the largest. In this regard, we analyzed the characteristics of movies with high scores, focusing on the United States. In the case of movies released after 2000, the action genre accounted for the largest share, followed by comedy and drama. Based on the results, movies corresponding to the action genre among movies produced in the United States were extracted and their characteristics were analyzed.\n",
        "\n",
        "The production company that occupies the largest share of production of action genre movies was Columbia Pictures, followed by Warner Bros. However, when checking the movies with the highest values based on the rating score, there were many movies produced by Warner Bros. We looked at movies produced by Warner Bros since 2000. Movies made with the director \"Christopher Nolan\" occupy three of the top five movies, confirming that they were all action movies. In addition, it was confirmed that the movies in which \"Christian Bale\" and \"Leonardo DiCaprio\" participated received high rating scores. Next, we looked at the movies that have been released since 2000 by Christopher Nolan. It was confirmed that the movies he worked with writer \"Jonathan Nolan\" occupy a large portion of the audience's rating score.\n",
        "\n",
        "When the data was expressed in visual graphs, it was confirmed that the running time was between 140 and 160 minutes when the rating score was 9.0 or higher, but the running time of movies with a score of 8.5 to 9.0 was varied from 100 minutes or less to 200 minutes. It was confirmed that the sceening time did not significantly affect the rating score. When movies produced in the United States were compared with movies produced from all countries, the distribution of rating score was similar, and it can be seen that the score ranged from 2 points to 9 points. If you look at the movies of director who received high rating score, you can see that he heavily focused on the action movie genre. It is possible to check through visual data which writer and director worked together with the highest profit, and it was confirmed that the highest profit was obtained when the director \"Christopher Nolan\" and the writer \"Jonathan Nolan\" collaborated."
      ]
    },
    {
      "cell_type": "markdown",
      "id": "f0ca7ba3",
      "metadata": {
        "id": "f0ca7ba3"
      },
      "source": [
        "## 6. Recommendations"
      ]
    },
    {
      "cell_type": "markdown",
      "id": "ce85c39d",
      "metadata": {
        "id": "ce85c39d"
      },
      "source": [
        "As movie industry, the film is very broad and professionally subdivided. Filmmaking is not an individual work, but a collective work, that is, a work of group creation. Therefore, when making a film, we have to consider various aspects.\n",
        "\n",
        "Films, which are mirrors that reflect the times, attract the attention of the audience and are very easy to form a consensus. First of all, it is important to understand the audience's viewing tendency and the flow of the times or society. In order to increase the chances of a movie's box office success, the cinematic taste of the audience should not be overlooked. Accordingly, the characteristics were identified based on movies with high IMDb user rating. Most of the movies with the highest user rating score were produced in the United States. Based on this, it was confirmed that action movies have been popular since 2000 in US. In the case of the genre, it was confirmed that there were many movies produced from the production company, Warner Bros.\n",
        "\n",
        "In the case of an action movie, the speedy development method that maximizes visual pleasure and tension is the competence of the producer and director. A solid scenario and spectacular and powerful acting skills are also considered when choosing an action movie. Therefore, based on this, I would like to recommend a director, writer, and actor. In the case of Warner Bros, movies worked with the director \"Christopher Nolan\" were at the top of the rating score, and it was confirmed that the director made a lot of revenue when he worked with the writer \"Jonathan Nolan\". As for the movie starts they worked with, the movies that \"Christian Bale\" and \"Leonardo DiCaprio\" participated in received good score on the rating. In conclusion, it is recommended to make a movie of the action genre when filming, and it is also recommended to consider Warner Bros, Christopher Nolan and Jonathan Nolan first in selecting a production company, director, and writer, respectively."
      ]
    }
  ],
  "metadata": {
    "kernelspec": {
      "display_name": "Python 3 (ipykernel)",
      "language": "python",
      "name": "python3"
    },
    "language_info": {
      "codemirror_mode": {
        "name": "ipython",
        "version": 3
      },
      "file_extension": ".py",
      "mimetype": "text/x-python",
      "name": "python",
      "nbconvert_exporter": "python",
      "pygments_lexer": "ipython3",
      "version": "3.9.12"
    },
    "colab": {
      "provenance": [],
      "include_colab_link": true
    }
  },
  "nbformat": 4,
  "nbformat_minor": 5
}